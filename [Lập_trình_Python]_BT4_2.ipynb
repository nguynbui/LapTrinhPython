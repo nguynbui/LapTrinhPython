{
  "nbformat": 4,
  "nbformat_minor": 0,
  "metadata": {
    "colab": {
      "provenance": [],
      "authorship_tag": "ABX9TyPdJCL3uO7JcZsmixQOH8qc",
      "include_colab_link": true
    },
    "kernelspec": {
      "name": "python3",
      "display_name": "Python 3"
    },
    "language_info": {
      "name": "python"
    }
  },
  "cells": [
    {
      "cell_type": "markdown",
      "metadata": {
        "id": "view-in-github",
        "colab_type": "text"
      },
      "source": [
        "<a href=\"https://colab.research.google.com/github/nguynbui/LapTrinhPython/blob/main/%5BL%E1%BA%ADp_tr%C3%ACnh_Python%5D_BT4_2.ipynb\" target=\"_parent\"><img src=\"https://colab.research.google.com/assets/colab-badge.svg\" alt=\"Open In Colab\"/></a>"
      ]
    },
    {
      "cell_type": "code",
      "execution_count": 7,
      "metadata": {
        "colab": {
          "base_uri": "https://localhost:8080/"
        },
        "id": "bmzxPL_FEEQ-",
        "outputId": "94970094-7c3a-41d4-ee4a-c46a3f17dafd"
      },
      "outputs": [
        {
          "output_type": "stream",
          "name": "stdout",
          "text": [
            "\n",
            "Số dư hiện tại: 100,000 VNĐ\n",
            "Số tiền cược: 10,000 VNĐ\n",
            "Chọn Tài (1) hay Xỉu (2): 2\n",
            "Tổng mặt xúc xắc là: 8\n",
            "Bạn thua 10000 VNĐ\n",
            "Chơi tiếp? (Y/N): n\n",
            "\n",
            "=== Kết quả cuối cùng ===\n",
            "Số dư: 90,000 VNĐ\n",
            "Số ván chơi: 1\n",
            "Số ván thắng: 0\n"
          ]
        }
      ],
      "source": [
        "import random\n",
        "\n",
        "def game_engine():\n",
        "  money = 100000\n",
        "  win = 0\n",
        "  round = 0\n",
        "\n",
        "  while money >= 10000:\n",
        "    die_1 = random.randint(1, 6)\n",
        "    die_2 = random.randint(1, 6)\n",
        "    sum_dice = die_1 + die_2\n",
        "\n",
        "    print(f\"\\nSố dư hiện tại: {money:,} VNĐ\")\n",
        "    bet = 10000\n",
        "    print(f\"Số tiền cược: {bet:,} VNĐ\")\n",
        "\n",
        "    select = 1\n",
        "\n",
        "    while True:\n",
        "      select = int(input(\"Chọn Tài (1) hay Xỉu (2): \"))\n",
        "      if 1 <= select <= 2:\n",
        "        break\n",
        "\n",
        "    round += 1\n",
        "\n",
        "    print(f'Tổng mặt xúc xắc là: {sum_dice}')\n",
        "\n",
        "    if sum_dice > 5:\n",
        "      if select == 1:\n",
        "        money += bet\n",
        "        win += 1\n",
        "        print(\"Bạn thắng 10000 VNĐ\")\n",
        "      else:\n",
        "        money -= bet\n",
        "        print(\"Bạn thua 10000 VNĐ\")\n",
        "\n",
        "    if money < 10000:\n",
        "      break\n",
        "\n",
        "    while True:\n",
        "      play_again = input(\"Chơi tiếp? (Y/N): \").upper()\n",
        "      if play_again in ['Y', 'N']:\n",
        "        break\n",
        "      print(\"Vui lòng chọn Y (Có) hoặc N (Không)!\")\n",
        "\n",
        "    if play_again == 'N':\n",
        "      break\n",
        "\n",
        "  print(\"\\n=== Kết quả cuối cùng ===\")\n",
        "  print(f\"Số dư: {money:,} VNĐ\")\n",
        "  print(f\"Số ván chơi: {round}\")\n",
        "  print(f\"Số ván thắng: {win}\")\n",
        "\n",
        "if __name__ == \"__main__\":\n",
        "  game_engine()"
      ]
    }
  ]
}